{
  "nbformat": 4,
  "nbformat_minor": 0,
  "metadata": {
    "colab": {
      "provenance": []
    },
    "kernelspec": {
      "name": "python3",
      "display_name": "Python 3"
    },
    "language_info": {
      "name": "python"
    }
  },
  "cells": [
    {
      "cell_type": "markdown",
      "source": [
        "# Libraries"
      ],
      "metadata": {
        "id": "1IAJh1RWBnj9"
      }
    },
    {
      "cell_type": "code",
      "execution_count": 1,
      "metadata": {
        "id": "PWYSU2JPbHd8"
      },
      "outputs": [],
      "source": [
        "import numpy as np"
      ]
    },
    {
      "cell_type": "markdown",
      "source": [
        "# Configs"
      ],
      "metadata": {
        "id": "pzxGyEQoBlpx"
      }
    },
    {
      "cell_type": "code",
      "source": [
        "number_of_iterations = 100"
      ],
      "metadata": {
        "id": "j24hQ1hQxDWt"
      },
      "execution_count": 2,
      "outputs": []
    },
    {
      "cell_type": "code",
      "source": [
        "distances = [\n",
        "    [0, 2.24, 3.16, 4.24],\n",
        "    [2.24, 0, 2.24, 2.24],\n",
        "    [3.16, 2.24, 0, 2],\n",
        "    [4.24, 2.24, 2, 0],\n",
        "]"
      ],
      "metadata": {
        "id": "3AiRy4JEb0Cs"
      },
      "execution_count": 3,
      "outputs": []
    },
    {
      "cell_type": "markdown",
      "source": [
        "# Helper Functions"
      ],
      "metadata": {
        "id": "3NwnPz1BBrza"
      }
    },
    {
      "cell_type": "code",
      "source": [
        "def is_available(selected_city, seen_cities, way):\n",
        "  # can not choose D city as the first city before C city\n",
        "  if len(way) == 0 and selected_city != 3:\n",
        "    return True\n",
        "  # can not selecet D city before C city\n",
        "  elif selected_city != 3:\n",
        "    if seen_cities[selected_city] == 0:\n",
        "      return True\n",
        "    elif selected_city == 2 and way[-1] != 2 and seen_cities[2] <= 1:\n",
        "      return True\n",
        "  elif selected_city == 3 and seen_cities[2] >= 1 and seen_cities[3] == 0:\n",
        "    return True\n",
        "  else:\n",
        "    False"
      ],
      "metadata": {
        "id": "px6GFqF1kyj3"
      },
      "execution_count": 4,
      "outputs": []
    },
    {
      "cell_type": "code",
      "source": [
        "def find_a_way():\n",
        "  # initiate values\n",
        "  way = []\n",
        "  seen_cities = np.zeros(4)\n",
        "\n",
        "  while len(way) < 5:\n",
        "    # find new available cities\n",
        "    available_cities = [city for city in range(4) if is_available(city, seen_cities, way)]\n",
        "\n",
        "    # impossible way to satisfy the conditions\n",
        "    if len(available_cities) == 0:\n",
        "      return []\n",
        "\n",
        "    # select a city\n",
        "    selected_city = np.random.choice(available_cities)\n",
        "    seen_cities[selected_city] += 1\n",
        "    way.append(selected_city)\n",
        "\n",
        "  # when we have to go back from C city to City\n",
        "  if way[-1] == way[0]:\n",
        "    return []\n",
        "\n",
        "  # return to the first city\n",
        "  way.append(way[0])\n",
        "\n",
        "  return way"
      ],
      "metadata": {
        "id": "rZ74l1_dcLI-"
      },
      "execution_count": 5,
      "outputs": []
    },
    {
      "cell_type": "code",
      "source": [
        "def calculate_path_length(way):\n",
        "  length = 0\n",
        "  for i in range(5):\n",
        "    length += distances[way[i]][way[i+1]]\n",
        "\n",
        "  return length"
      ],
      "metadata": {
        "id": "pofpfz8Znady"
      },
      "execution_count": 6,
      "outputs": []
    },
    {
      "cell_type": "markdown",
      "source": [
        "# Main Loop"
      ],
      "metadata": {
        "id": "_C933cOsBuxn"
      }
    },
    {
      "cell_type": "code",
      "source": [
        "best_way = {\n",
        "    \"way\": [],\n",
        "    \"length\": np.inf\n",
        "}\n",
        "\n",
        "for i in range(number_of_iterations):\n",
        "  new_way = find_a_way()\n",
        "  if len(new_way) == 0:\n",
        "    print(\"impossible way to satisfy the conditions\")\n",
        "  else:\n",
        "    length = calculate_path_length(new_way)\n",
        "\n",
        "    if length < best_way[\"length\"]:\n",
        "      print(f\"new best way found with length {length}\")\n",
        "      best_way = {\n",
        "        \"way\": new_way,\n",
        "        \"length\": length\n",
        "      }\n",
        "\n",
        "print(\"The best way founded:\", best_way)"
      ],
      "metadata": {
        "colab": {
          "base_uri": "https://localhost:8080/"
        },
        "id": "v8iz5jbwndHY",
        "outputId": "94816f93-86fb-44b4-87b4-4e1356c1af45"
      },
      "execution_count": 15,
      "outputs": [
        {
          "output_type": "stream",
          "name": "stdout",
          "text": [
            "impossible way to satisfy the conditions\n",
            "new best way found with length 13.88\n",
            "new best way found with length 11.64\n",
            "impossible way to satisfy the conditions\n",
            "impossible way to satisfy the conditions\n",
            "impossible way to satisfy the conditions\n",
            "impossible way to satisfy the conditions\n",
            "impossible way to satisfy the conditions\n",
            "impossible way to satisfy the conditions\n",
            "impossible way to satisfy the conditions\n",
            "impossible way to satisfy the conditions\n",
            "impossible way to satisfy the conditions\n",
            "impossible way to satisfy the conditions\n",
            "The best way founded: {'way': [1, 0, 2, 3, 2, 1], 'length': 11.64}\n"
          ]
        }
      ]
    },
    {
      "cell_type": "code",
      "source": [],
      "metadata": {
        "id": "bwCaRvDcBiqv"
      },
      "execution_count": null,
      "outputs": []
    }
  ]
}